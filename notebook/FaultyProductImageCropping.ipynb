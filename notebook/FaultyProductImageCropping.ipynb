{
 "cells": [
  {
   "cell_type": "code",
   "execution_count": 2,
   "metadata": {},
   "outputs": [],
   "source": [
    "import re\n",
    "import os\n",
    "from PIL import Image\n",
    "import numpy as np\n",
    "from tqdm import tqdm"
   ]
  },
  {
   "cell_type": "markdown",
   "metadata": {},
   "source": [
    "# image cut"
   ]
  },
  {
   "cell_type": "code",
   "execution_count": 3,
   "metadata": {},
   "outputs": [],
   "source": [
    "folder = r\"D:\\data\"\n",
    "data_path = []\n",
    "\n",
    "label_map = {\n",
    "    \"Bending\": 0,\n",
    "    \"Reverse\": 1,\n",
    "    \"Stain\": 2\n",
    "}\n",
    "\n",
    "for label_name in os.listdir(folder):\n",
    "    label_folder = os.path.join(folder, label_name)\n",
    "    if os.path.isdir(label_folder):\n",
    "        for filename in os.listdir(label_folder):\n",
    "            if label_name != \"Good\":\n",
    "                data_path.append((os.path.join(label_folder, filename), label_map[label_name]))"
   ]
  },
  {
   "cell_type": "code",
   "execution_count": 4,
   "metadata": {},
   "outputs": [],
   "source": [
    "# topLeft center topRight bottomLeft bottomRight\n",
    "# image size (840, 840)\n",
    "sin_ticket_list = [\n",
    "    [146, 218, 846, 918],\n",
    "    [883, 233, 1583, 933],\n",
    "    [1627, 242, 2327, 942],\n",
    "    [1604, 964, 2304, 1664],\n",
    "    [141, 947, 841, 1647]\n",
    "]\n",
    "sinner = 0\n",
    "weare = 770"
   ]
  },
  {
   "cell_type": "code",
   "execution_count": 5,
   "metadata": {},
   "outputs": [],
   "source": [
    "Error_sin_ticket_list = {\n",
    "    'Bending' : [\n",
    "        [189, 184, 889, 884],\n",
    "        [935, 251, 1635, 951],\n",
    "        [1668, 296, 2368, 996],\n",
    "        [0, 0, 0, 0],\n",
    "        [0, 0, 0, 0]\n",
    "    ],\n",
    "    \"Reverse\": [\n",
    "        [197, 272, 897, 972],\n",
    "        [890, 305, 1590, 1005],\n",
    "        [1621, 315, 2321, 1015],\n",
    "        [1612, 1050, 2312, 1750],\n",
    "        [148, 1001, 848, 1701]\n",
    "    ],\n",
    "    \"Stain\" : [\n",
    "        [169, 244, 869, 944],\n",
    "        [907, 259, 1607, 959],\n",
    "        [1636, 337, 2336, 1037],\n",
    "        [0, 0, 0, 0],\n",
    "        [141, 979, 841, 1679]\n",
    "    ],\n",
    "    \"Stain4\" : [\n",
    "        [174, 251, 874, 951],\n",
    "        [894, 281, 1594, 981],\n",
    "        [1614, 305, 2314, 1005],\n",
    "        [1588, 1027, 2288, 1727],\n",
    "        [122, 990, 822, 1690]\n",
    "    ]\n",
    "}"
   ]
  },
  {
   "cell_type": "code",
   "execution_count": 6,
   "metadata": {},
   "outputs": [],
   "source": [
    "output_path = r\"D:\\datacut\"\n",
    "for make_filae_name in label_map.keys():\n",
    "    os.makedirs(output_path + \"//\" + make_filae_name, exist_ok=True)"
   ]
  },
  {
   "cell_type": "code",
   "execution_count": 7,
   "metadata": {},
   "outputs": [
    {
     "name": "stderr",
     "output_type": "stream",
     "text": [
      "100%|██████████| 12/12 [00:03<00:00,  3.13it/s]\n"
     ]
    }
   ],
   "source": [
    "label_map = {\n",
    "    0 : \"Bending\",\n",
    "    1 : \"Reverse\",\n",
    "    2 : \"Stain\"\n",
    "}\n",
    "cut = {\n",
    "    0 : 0,\n",
    "    1 : 0,\n",
    "    2 : 0\n",
    "}\n",
    "dont_save = {\n",
    "    0 : [19, 20],\n",
    "    1 : [],\n",
    "    2 : [24]\n",
    "}\n",
    "Error_crop_list = {\n",
    "    0 : [3],\n",
    "    1 : [1, 2],\n",
    "    2 : [4]\n",
    "}\n",
    "for image_path in tqdm(data_path):\n",
    "    image = Image.open(image_path[0])\n",
    "    label = image_path[1]\n",
    "    for number in range(1, 6):\n",
    "        cut[label] += 1\n",
    "        if label == 2 and (cut[label] - 1) // 5 == 1:\n",
    "            error_crops = Error_sin_ticket_list[label_map[label] + \"4\"]\n",
    "            left, upper, right, lower = error_crops[number - 1]\n",
    "        elif (cut[label] - 1) // 5 in Error_crop_list[label]:\n",
    "            error_crops = Error_sin_ticket_list[label_map[label]]\n",
    "            left, upper, right, lower = error_crops[number - 1]\n",
    "        else:\n",
    "            left, upper, right, lower = sin_ticket_list[number - 1]\n",
    "        output_filename = os.path.join(f\"{output_path}\\\\{image_path[0][8:].replace('.bmp', '')}_{number}.jpg\")\n",
    "        output_filename = output_filename.replace(\" \", \"\")\n",
    "        cropped_region = (left, upper, right, lower)\n",
    "        cropped_image = image.crop(cropped_region)\n",
    "        if cut[label] not in dont_save[label]:\n",
    "            cropped_image.save(output_filename, 'JPEG')"
   ]
  },
  {
   "cell_type": "code",
   "execution_count": null,
   "metadata": {},
   "outputs": [],
   "source": []
  }
 ],
 "metadata": {
  "kernelspec": {
   "display_name": "mnvision",
   "language": "python",
   "name": "python3"
  },
  "language_info": {
   "codemirror_mode": {
    "name": "ipython",
    "version": 3
   },
   "file_extension": ".py",
   "mimetype": "text/x-python",
   "name": "python",
   "nbconvert_exporter": "python",
   "pygments_lexer": "ipython3",
   "version": "3.12.3"
  }
 },
 "nbformat": 4,
 "nbformat_minor": 2
}
