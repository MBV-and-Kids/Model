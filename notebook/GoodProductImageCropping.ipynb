{
 "cells": [
  {
   "cell_type": "code",
   "execution_count": 1,
   "metadata": {},
   "outputs": [],
   "source": [
    "import re\n",
    "import os\n",
    "from PIL import Image\n",
    "import numpy as np\n",
    "from tqdm import tqdm"
   ]
  },
  {
   "cell_type": "code",
   "execution_count": 3,
   "metadata": {},
   "outputs": [],
   "source": [
    "folder = r\"D:\\data\\Good\"\n",
    "data_path = []\n",
    "for filename in os.listdir(folder):\n",
    "    data_path.append(os.path.join(folder, filename))\n",
    "data_path = sorted(data_path, key=lambda x: [int(s) if s.isdigit() else s for s in re.split(r'(\\d+)', x)])"
   ]
  },
  {
   "cell_type": "code",
   "execution_count": 4,
   "metadata": {},
   "outputs": [],
   "source": [
    "# topLeft center topRight bottomLeft bottomRight\n",
    "# image size (840, 840)\n",
    "sin_ticket_list = [\n",
    "    [40, 100, 880, 940],\n",
    "    [810, 100, 1650, 940],\n",
    "    [1580, 100, 2420, 940],\n",
    "    [30, 880, 870, 1720],\n",
    "    [1590, 880, 2430, 1720]\n",
    "]\n",
    "\n",
    "sin_ticket_list_error = [\n",
    "    [10, 10, 850, 850],\n",
    "    [780, 30, 1620, 870],\n",
    "    [1560, 40, 2400, 880],\n",
    "    [10, 780, 850, 1620],\n",
    "    [1550, 800, 2390, 1640]\n",
    "]\n",
    "sinner = 0\n",
    "weare = 770"
   ]
  },
  {
   "cell_type": "code",
   "execution_count": 6,
   "metadata": {},
   "outputs": [
    {
     "name": "stderr",
     "output_type": "stream",
     "text": [
      "  0%|          | 0/85 [00:00<?, ?it/s]"
     ]
    },
    {
     "name": "stderr",
     "output_type": "stream",
     "text": [
      "100%|██████████| 85/85 [00:41<00:00,  2.06it/s]\n"
     ]
    }
   ],
   "source": [
    "output_path = r\"D:\\datacut\\Good\"\n",
    "os.makedirs(output_path, exist_ok=True)\n",
    "cunt = 0\n",
    "for image_path in tqdm(data_path):\n",
    "    image = Image.open(image_path)\n",
    "\n",
    "    for number in range(1, 6):\n",
    "        if cunt == 9:\n",
    "            left, upper, right, lower = sin_ticket_list_error[number - 1]\n",
    "        else:\n",
    "            left, upper, right, lower = sin_ticket_list[number - 1]\n",
    "        output_filename = os.path.join(output_path, f\"{os.path.basename(image_path)[:4].replace(\".\", \"\")}_{number}.jpg\")\n",
    "        cropped_region = (left, upper, right, lower)\n",
    "        cropped_image = image.crop(cropped_region)\n",
    "        cropped_image.save(output_filename, 'JPEG')\n",
    "    cunt += 1\n"
   ]
  },
  {
   "cell_type": "code",
   "execution_count": null,
   "metadata": {},
   "outputs": [],
   "source": []
  }
 ],
 "metadata": {
  "kernelspec": {
   "display_name": "mnvision",
   "language": "python",
   "name": "python3"
  },
  "language_info": {
   "codemirror_mode": {
    "name": "ipython",
    "version": 3
   },
   "file_extension": ".py",
   "mimetype": "text/x-python",
   "name": "python",
   "nbconvert_exporter": "python",
   "pygments_lexer": "ipython3",
   "version": "3.12.3"
  }
 },
 "nbformat": 4,
 "nbformat_minor": 2
}
