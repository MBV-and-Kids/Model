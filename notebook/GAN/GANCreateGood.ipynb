{
  "cells": [
    {
      "cell_type": "code",
      "execution_count": null,
      "metadata": {
        "id": "mZv0fy8sZaxL"
      },
      "outputs": [],
      "source": [
        "import tensorflow as tf\n",
        "from tensorflow.keras import layers\n",
        "import numpy as np\n",
        "import matplotlib.pyplot as plt\n",
        "import os"
      ]
    },
    {
      "cell_type": "markdown",
      "source": [
        "### 모델 학습"
      ],
      "metadata": {
        "id": "8CkhHJxHzktS"
      }
    },
    {
      "cell_type": "code",
      "source": [
        "from google.colab import drive\n",
        "drive.mount('/content/drive')"
      ],
      "metadata": {
        "id": "JLUb_WYdp-LP"
      },
      "execution_count": null,
      "outputs": []
    },
    {
      "cell_type": "code",
      "execution_count": null,
      "metadata": {
        "id": "HCbjLo4MGKg9"
      },
      "outputs": [],
      "source": [
        "# 이미지 파일 경로\n",
        "image_dir = '/content/drive/MyDrive/mnvision/Good'"
      ]
    },
    {
      "cell_type": "code",
      "execution_count": null,
      "metadata": {
        "id": "HkZdbeLADmQT"
      },
      "outputs": [],
      "source": [
        "# 하이퍼파라미터 설정\n",
        "BUFFER_SIZE = 60000\n",
        "BATCH_SIZE = 32\n",
        "EPOCHS = 2000\n",
        "NOISE_DIM = 100\n",
        "NUM_EXAMPLES_TO_GENERATE = 16"
      ]
    },
    {
      "cell_type": "code",
      "execution_count": null,
      "metadata": {
        "id": "FQicj4TIGMm5"
      },
      "outputs": [],
      "source": [
        "# 이미지 데이터셋 로딩 및 전처리\n",
        "def load_images(image_dir):\n",
        "    image_files = [os.path.join(image_dir, file) for file in os.listdir(image_dir) if file.endswith('.jpg')]\n",
        "    images = [tf.image.decode_jpeg(tf.io.read_file(file), channels=3) for file in image_files]\n",
        "    images = [tf.image.resize(image, (480, 480)) for image in images]  # 이미지 크기 조정\n",
        "    images = np.array(images)\n",
        "    images = (images - 127.5) / 127.5  # [-1, 1]로 정규화\n",
        "    return images"
      ]
    },
    {
      "cell_type": "code",
      "execution_count": null,
      "metadata": {
        "id": "brNKlWovD_8K"
      },
      "outputs": [],
      "source": [
        "# 생성기 정의\n",
        "def make_generator_model():\n",
        "    model = tf.keras.Sequential()\n",
        "    model.add(layers.Dense(30*30*256, use_bias=False, input_shape=(NOISE_DIM,)))\n",
        "    model.add(layers.BatchNormalization())\n",
        "    model.add(layers.LeakyReLU())\n",
        "\n",
        "    model.add(layers.Reshape((30, 30, 256)))\n",
        "    assert model.output_shape == (None, 30, 30, 256)\n",
        "\n",
        "    model.add(layers.Conv2DTranspose(128, (5, 5), strides=(2, 2), padding='same', use_bias=False))\n",
        "    assert model.output_shape == (None, 60, 60, 128)\n",
        "    model.add(layers.BatchNormalization())\n",
        "    model.add(layers.LeakyReLU())\n",
        "\n",
        "    model.add(layers.Conv2DTranspose(64, (5, 5), strides=(2, 2), padding='same', use_bias=False))\n",
        "    assert model.output_shape == (None, 120, 120, 64)\n",
        "    model.add(layers.BatchNormalization())\n",
        "    model.add(layers.LeakyReLU())\n",
        "\n",
        "    model.add(layers.Conv2DTranspose(32, (5, 5), strides=(2, 2), padding='same', use_bias=False))\n",
        "    assert model.output_shape == (None, 240, 240, 32)\n",
        "    model.add(layers.BatchNormalization())\n",
        "    model.add(layers.LeakyReLU())\n",
        "\n",
        "    model.add(layers.Conv2DTranspose(3, (5, 5), strides=(2, 2), padding='same', use_bias=False, activation='tanh'))\n",
        "    assert model.output_shape == (None, 480, 480, 3)\n",
        "\n",
        "    return model"
      ]
    },
    {
      "cell_type": "code",
      "execution_count": null,
      "metadata": {
        "id": "y1_YP9-CEAH5"
      },
      "outputs": [],
      "source": [
        "# 판별기 정의\n",
        "def make_discriminator_model():\n",
        "    model = tf.keras.Sequential()\n",
        "    model.add(layers.Conv2D(64, (5, 5), strides=(2, 2), padding='same', input_shape=[480, 480, 3]))\n",
        "    model.add(layers.LeakyReLU())\n",
        "    model.add(layers.Dropout(0.3))\n",
        "\n",
        "    model.add(layers.Conv2D(128, (5, 5), strides=(2, 2), padding='same'))\n",
        "    model.add(layers.LeakyReLU())\n",
        "    model.add(layers.Dropout(0.3))\n",
        "\n",
        "    model.add(layers.Conv2D(256, (5, 5), strides=(2, 2), padding='same'))\n",
        "    model.add(layers.LeakyReLU())\n",
        "    model.add(layers.Dropout(0.3))\n",
        "\n",
        "    model.add(layers.Conv2D(512, (5, 5), strides=(2, 2), padding='same'))\n",
        "    model.add(layers.LeakyReLU())\n",
        "    model.add(layers.Dropout(0.3))\n",
        "\n",
        "    model.add(layers.Flatten())\n",
        "    model.add(layers.Dense(1))\n",
        "\n",
        "    return model"
      ]
    },
    {
      "cell_type": "code",
      "execution_count": null,
      "metadata": {
        "id": "aov4MpmaECQU"
      },
      "outputs": [],
      "source": [
        "# 손실 함수 정의\n",
        "cross_entropy = tf.keras.losses.BinaryCrossentropy(from_logits=True)"
      ]
    },
    {
      "cell_type": "code",
      "execution_count": null,
      "metadata": {
        "id": "X1hJeQl5EDv_"
      },
      "outputs": [],
      "source": [
        "def discriminator_loss(real_output, fake_output):\n",
        "    real_loss = cross_entropy(tf.ones_like(real_output), real_output)\n",
        "    fake_loss = cross_entropy(tf.zeros_like(fake_output), fake_output)\n",
        "    total_loss = real_loss + fake_loss\n",
        "    return total_loss\n",
        "\n",
        "def generator_loss(fake_output):\n",
        "    return cross_entropy(tf.ones_like(fake_output), fake_output)"
      ]
    },
    {
      "cell_type": "code",
      "execution_count": null,
      "metadata": {
        "id": "LVCMMjoJEF4S"
      },
      "outputs": [],
      "source": [
        "# 옵티마이저 정의\n",
        "generator = make_generator_model()\n",
        "discriminator = make_discriminator_model()\n",
        "\n",
        "generator_optimizer = tf.keras.optimizers.Adam(1e-4)\n",
        "discriminator_optimizer = tf.keras.optimizers.Adam(1e-4)"
      ]
    },
    {
      "cell_type": "code",
      "execution_count": null,
      "metadata": {
        "id": "nsJsBiK6EIJ8"
      },
      "outputs": [],
      "source": [
        "# 학습 데이터 준비\n",
        "train_images = load_images(image_dir)\n",
        "train_dataset = tf.data.Dataset.from_tensor_slices(train_images).shuffle(BUFFER_SIZE).batch(BATCH_SIZE)"
      ]
    },
    {
      "cell_type": "code",
      "execution_count": null,
      "metadata": {
        "id": "_rPHl6TcEG1K"
      },
      "outputs": [],
      "source": [
        "# 학습 루프\n",
        "@tf.function\n",
        "def train_step(images):\n",
        "    noise = tf.random.normal([BATCH_SIZE, NOISE_DIM])\n",
        "\n",
        "    with tf.GradientTape() as gen_tape, tf.GradientTape() as disc_tape:\n",
        "        generated_images = generator(noise, training=True)\n",
        "\n",
        "        real_output = discriminator(images, training=True)\n",
        "        fake_output = discriminator(generated_images, training=True)\n",
        "\n",
        "        gen_loss = generator_loss(fake_output)\n",
        "        disc_loss = discriminator_loss(real_output, fake_output)\n",
        "\n",
        "    gradients_of_generator = gen_tape.gradient(gen_loss, generator.trainable_variables)\n",
        "    gradients_of_discriminator = disc_tape.gradient(disc_loss, discriminator.trainable_variables)\n",
        "\n",
        "    generator_optimizer.apply_gradients(zip(gradients_of_generator, generator.trainable_variables))\n",
        "    discriminator_optimizer.apply_gradients(zip(gradients_of_discriminator, discriminator.trainable_variables))\n"
      ]
    },
    {
      "cell_type": "code",
      "execution_count": null,
      "metadata": {
        "id": "UIFVfqHDEKiY"
      },
      "outputs": [],
      "source": [
        "# 모델 학습\n",
        "for epoch in range(EPOCHS):\n",
        "  # if epoch % 10 == 0:\n",
        "  #   print(f'Epoch {epoch}/{EPOCHS}')\n",
        "  print(f'Epoch {epoch}/{EPOCHS}')\n",
        "  for image_batch in train_dataset:\n",
        "      train_step(image_batch)\n",
        "\n",
        "  if epoch % 100 == 0:\n",
        "      noise = tf.random.normal([NUM_EXAMPLES_TO_GENERATE, NOISE_DIM])\n",
        "      generated_images = generator(noise, training=False)\n",
        "      fig = plt.figure(figsize=(4, 4))\n",
        "\n",
        "      for i in range(generated_images.shape[0]):\n",
        "          plt.subplot(4, 4, i+1)\n",
        "          plt.imshow((generated_images[i, :, :, :].numpy() * 127.5 + 127.5).astype(np.uint8))\n",
        "          plt.axis('off')\n",
        "\n",
        "      plt.show()"
      ]
    },
    {
      "cell_type": "markdown",
      "source": [
        "### 이미지 생성 모델 불러오기"
      ],
      "metadata": {
        "id": "Fj1-aw9czhcl"
      }
    },
    {
      "cell_type": "code",
      "execution_count": null,
      "metadata": {
        "id": "ikDp-RxhEUGJ"
      },
      "outputs": [],
      "source": [
        "# 생성기 모델 저장\n",
        "generator.save('/content/drive/MyDrive/mnvision/generator_model')"
      ]
    },
    {
      "cell_type": "code",
      "source": [
        "generator = tf.keras.models.load_model('/content/drive/MyDrive/mnvision/generator_model')"
      ],
      "metadata": {
        "id": "rIM57Zlj2L00"
      },
      "execution_count": null,
      "outputs": []
    },
    {
      "cell_type": "code",
      "source": [
        "def save_generated_images(epoch, generator, num_examples_to_generate, noise_dim, output_dir):\n",
        "    noise = tf.random.normal([num_examples_to_generate, noise_dim])\n",
        "    generated_images = generator(noise, training=False)\n",
        "    for i in range(num_examples_to_generate):\n",
        "        image = generated_images[i, :, :, :] * 127.5 + 127.5\n",
        "        image = tf.cast(image, tf.uint8)\n",
        "        file_path = os.path.join(output_dir, f'generated_image_epoch_{epoch}_sample_{i}.png')\n",
        "        tf.keras.preprocessing.image.save_img(file_path, image)\n",
        "        print(f'Saved {file_path}')\n",
        "\n",
        "# 이미지를 저장할 디렉토리 지정\n",
        "output_dir = '/content/drive/MyDrive/mnvision/generated_images'\n",
        "os.makedirs(output_dir, exist_ok=True)\n",
        "\n",
        "# 모델 학습 루프에서 호출하여 저장된 이미지를 생성하고 저장\n",
        "for epoch in range(EPOCHS):\n",
        "    for image_batch in train_dataset:\n",
        "        train_step(image_batch)\n",
        "\n",
        "    if epoch % 100 == 0:\n",
        "        save_generated_images(epoch, generator, NUM_EXAMPLES_TO_GENERATE, NOISE_DIM, output_dir)\n"
      ],
      "metadata": {
        "id": "qF6gKPTS5yUP"
      },
      "execution_count": null,
      "outputs": []
    },
    {
      "cell_type": "code",
      "source": [
        "def plot_generated_images(epoch, generator, num_examples_to_generate, noise_dim):\n",
        "    noise = tf.random.normal([num_examples_to_generate, noise_dim])\n",
        "    generated_images = generator(noise, training=False)\n",
        "    fig = plt.figure(figsize=(4, 4))\n",
        "    for i in range(generated_images.shape[0]):\n",
        "        plt.subplot(4, 4, i+1)\n",
        "        plt.imshow((generated_images[i, :, :, :] * 127.5 + 127.5).numpy().astype(np.uint8))\n",
        "        plt.axis('off')\n",
        "    plt.suptitle(f'Generated Images (Epoch {epoch})', fontsize=16)\n",
        "    plt.show()\n",
        "\n",
        "# 특정 에포크에서 생성된 이미지 출력\n",
        "plot_generated_images(1000, generator, NUM_EXAMPLES_TO_GENERATE, NOISE_DIM)\n"
      ],
      "metadata": {
        "id": "Se3Ts21l5y2S"
      },
      "execution_count": null,
      "outputs": []
    }
  ],
  "metadata": {
    "accelerator": "GPU",
    "colab": {
      "gpuType": "T4",
      "machine_shape": "hm",
      "provenance": [],
      "private_outputs": true
    },
    "kernelspec": {
      "display_name": "Python 3",
      "name": "python3"
    },
    "language_info": {
      "name": "python"
    }
  },
  "nbformat": 4,
  "nbformat_minor": 0
}